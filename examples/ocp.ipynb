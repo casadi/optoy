{
 "metadata": {
  "name": "",
  "signature": "sha256:95e40cd4db7a1e870f8b087de142182d5fbc1a1d2d6ae6c35786f465e7e55dff"
 },
 "nbformat": 3,
 "nbformat_minor": 0,
 "worksheets": [
  {
   "cells": [
    {
     "cell_type": "code",
     "collapsed": false,
     "input": [
      "%matplotlib inline"
     ],
     "language": "python",
     "metadata": {},
     "outputs": [],
     "prompt_number": 1
    },
    {
     "cell_type": "code",
     "collapsed": false,
     "input": [
      "from pylab import *\n",
      "from optoy import *\n",
      "\n",
      "x = state()\n",
      "y = state()\n",
      "q = state()\n",
      "\n",
      "u = control()\n",
      "T = var(lb=0,init=10)\n",
      "\n",
      "x.dot = (1-y**2)*x-y+u\n",
      "y.dot = x\n",
      "q.dot = x**2+y**2\n",
      "\n",
      "print ocp(T,[u>=-1,u<=1,q.start==0,x.start==1,y.start==0,x.end==0,y.end==0],T=T,N=20)"
     ],
     "language": "python",
     "metadata": {},
     "outputs": [
      {
       "output_type": "stream",
       "stream": "stdout",
       "text": [
        "(1, 1)\n",
        "\n",
        "******************************************************************************\n",
        "This program contains Ipopt, a library for large-scale nonlinear optimization.\n",
        " Ipopt is released as open source code under the Eclipse Public License (EPL).\n",
        "         For more information visit http://projects.coin-or.org/Ipopt\n",
        "******************************************************************************\n",
        "\n"
       ]
      },
      {
       "output_type": "stream",
       "stream": "stdout",
       "text": [
        "2.96157509007\n"
       ]
      }
     ],
     "prompt_number": 2
    },
    {
     "cell_type": "code",
     "collapsed": false,
     "input": [
      "print x.sol"
     ],
     "language": "python",
     "metadata": {},
     "outputs": [
      {
       "output_type": "stream",
       "stream": "stdout",
       "text": [
        "[DMatrix(1), DMatrix(0.987388), DMatrix(0.943018), DMatrix(0.858367), DMatrix(0.728705), DMatrix(0.555001), DMatrix(0.343747), DMatrix(0.104317), DMatrix(-0.154994), DMatrix(-0.430419), DMatrix(-0.585801), DMatrix(-0.580591), DMatrix(-0.569645), DMatrix(-0.550801), DMatrix(-0.521654), DMatrix(-0.479655), DMatrix(-0.42228), DMatrix(-0.34723), DMatrix(-0.252625), DMatrix(-0.137136), DMatrix(0)]\n"
       ]
      }
     ],
     "prompt_number": 3
    },
    {
     "cell_type": "code",
     "collapsed": false,
     "input": [
      "plot(x.sol,label='x')\n",
      "plot(y.sol,label='y')\n",
      "plot(u.sol,label='u')\n",
      "\n",
      "ylim([-1.5,1.5])\n",
      "xlabel(\"Time step\")\n",
      "title(\"optimal solution\")\n",
      "legend()\n",
      "grid(True)\n",
      "show()"
     ],
     "language": "python",
     "metadata": {},
     "outputs": [
      {
       "metadata": {},
       "output_type": "display_data",
       "png": "[encoded data removed]",
       "text": [
        "<matplotlib.figure.Figure at 0x7fcbf94a3f10>"
       ]
      }
     ],
     "prompt_number": 4
    },
    {
     "cell_type": "code",
     "collapsed": false,
     "input": [],
     "language": "python",
     "metadata": {},
     "outputs": []
    }
   ],
   "metadata": {}
  }
 ]
}