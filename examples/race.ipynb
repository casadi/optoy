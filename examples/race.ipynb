{
 "metadata": {
  "name": "",
  "signature": "sha256:6c6a4b48ce0cfbba1c6b206cf399a070ac327ca536be4cdb2304e32f759e0289"
 },
 "nbformat": 3,
 "nbformat_minor": 0,
 "worksheets": [
  {
   "cells": [
    {
     "cell_type": "markdown",
     "metadata": {},
     "source": [
      "Simple [optoy](http://optoy.casadi.org) demo"
     ]
    },
    {
     "cell_type": "code",
     "collapsed": false,
     "input": [],
     "language": "python",
     "metadata": {},
     "outputs": []
    },
    {
     "cell_type": "code",
     "collapsed": false,
     "input": [
      "from pylab import *\n",
      "from optoy import *\n",
      "\n",
      "s  = state(name=\"speed\",init=1)\n",
      "p  = state(name=\"position\")\n",
      "\n",
      "u  = control(name=\"throttle\")\n",
      "\n",
      "tf = var(name=\"final time\",init=1)\n",
      "\n",
      "s.dot = u - s\n",
      "p.dot = s\n",
      "\n",
      "smax = 1-sin(2*pi*p)/2\n",
      "\n",
      "constraints = [ \n",
      "    \n",
      "    # Boundary conditions\n",
      "    s.start == 0,\n",
      "    p.start == 0, \n",
      "    p.end   == 1,\n",
      "\n",
      "    # Path constraints\n",
      "    u       <=  1,\n",
      "    s       <= smax\n",
      "]\n",
      "  \n",
      "print ocp(tf, constraints, T=tf,verbose=True,N=50)\n",
      "\n",
      "plot(value(u),'b');\n",
      "plot(value(s),'g');\n",
      "plot(value(smax),'r');"
     ],
     "language": "python",
     "metadata": {},
     "outputs": [
      {
       "output_type": "stream",
       "stream": "stdout",
       "text": [
        "1.90393424856\n"
       ]
      },
      {
       "metadata": {},
       "output_type": "display_data",
       "png": "[encoded data removed]",
       "text": [
        "<matplotlib.figure.Figure at 0x7fe4db491990>"
       ]
      }
     ],
     "prompt_number": 20
    },
    {
     "cell_type": "code",
     "collapsed": false,
     "input": [
      "value(u)"
     ],
     "language": "python",
     "metadata": {},
     "outputs": []
    },
    {
     "cell_type": "code",
     "collapsed": false,
     "input": [
      "constraints = [ \n",
      "    s.start == 0,\n",
      "    p.start == 0, \n",
      "    p.end   == 1,\n",
      "    u <=  1,\n",
      "    s <= smax ]\n",
      "\n",
      "#constraints = [ s.start == s.end,  p.start == 0,  p.end == 1,\n",
      "#                 u <=  1, u>=0, s<= smax ]\n",
      "\n",
      "print ocp(tf, constraints, T=tf,verbose=True,N=50)\n",
      "\n",
      "plot(value(u),'b');\n",
      "plot(value(s),'g');\n",
      "plot(value(smax),'r');"
     ],
     "language": "python",
     "metadata": {},
     "outputs": []
    }
   ],
   "metadata": {}
  }
 ]
}