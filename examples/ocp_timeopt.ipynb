{
 "metadata": {
  "name": "",
  "signature": "sha256:4469224dc0d450f1ddd523f73610a36304e1600c7d15b303d8fbf036ff9bfe8a"
 },
 "nbformat": 3,
 "nbformat_minor": 0,
 "worksheets": [
  {
   "cells": [
    {
     "cell_type": "heading",
     "level": 1,
     "metadata": {},
     "source": [
      "Time optimal control problem"
     ]
    },
    {
     "cell_type": "markdown",
     "metadata": {},
     "source": [
      "In this example we will set-up a simple 4-state system,\n",
      "and find a time-optimal trajectory that avoids some obstacles in the world."
     ]
    },
    {
     "cell_type": "heading",
     "level": 2,
     "metadata": {},
     "source": [
      "Problem setup"
     ]
    },
    {
     "cell_type": "code",
     "collapsed": false,
     "input": [
      "from casadi import *\n",
      "from pylab import *\n",
      "from optoy import *\n",
      "\n",
      "# Time\n",
      "t = time()\n",
      "\n",
      "# An optimization variable for the end time\n",
      "T = var(lb=0,init=4)\n",
      "\n",
      "# States: position and velocity\n",
      "p = state(2,init=vertcat([3*sin(2*pi/T.init*t),3*cos(2*pi/T.init*t)]))\n",
      "v = state(2)\n",
      "\n",
      "# Control\n",
      "u = control(2)\n",
      "\n",
      "# Disturbance\n",
      "w = dist(2,cov=50*DMatrix([[1,0],[0,1]]))"
     ],
     "language": "python",
     "metadata": {},
     "outputs": [],
     "prompt_number": 1
    },
    {
     "cell_type": "markdown",
     "metadata": {},
     "source": [
      "Specify the system dynamics as ODE"
     ]
    },
    {
     "cell_type": "code",
     "collapsed": false,
     "input": [
      "p.dot = v\n",
      "v.dot = -10*(p-u)-v*sqrt(sum_square(v)+1)+w"
     ],
     "language": "python",
     "metadata": {},
     "outputs": [],
     "prompt_number": 2
    },
    {
     "cell_type": "markdown",
     "metadata": {},
     "source": [
      "Set up the path constraints"
     ]
    },
    {
     "cell_type": "code",
     "collapsed": false,
     "input": [
      "# Specify some parameters for circular obstacles\n",
      "#            ( position,      radius)\n",
      "#\n",
      "circles = [  (vertcat([2,2]),      1),\n",
      "             (vertcat([0.5,-2]), 1.5),\n",
      "          ]\n",
      "\n",
      "# List of path constraints\n",
      "h = []\n",
      "for center, radius in circles:\n",
      "  h.append(\n",
      "     norm_2(p-center) >= radius  # Don't hit the obstacles\n",
      "  )"
     ],
     "language": "python",
     "metadata": {},
     "outputs": [],
     "prompt_number": 3
    },
    {
     "cell_type": "heading",
     "level": 2,
     "metadata": {},
     "source": [
      "Solve the OCP problem"
     ]
    },
    {
     "cell_type": "code",
     "collapsed": false,
     "input": [
      "ocp(T,h+[p.start[0]==0],regularize=[0.1*u/sqrt(2)],N=30,T=T,verbose=True,periodic=True,integration_intervals=2)"
     ],
     "language": "python",
     "metadata": {},
     "outputs": [
      {
       "metadata": {},
       "output_type": "pyout",
       "prompt_number": 4,
       "text": [
        "2.5086746746469544"
       ]
      }
     ],
     "prompt_number": 4
    },
    {
     "cell_type": "heading",
     "level": 2,
     "metadata": {},
     "source": [
      "Plotting of results"
     ]
    },
    {
     "cell_type": "code",
     "collapsed": false,
     "input": [
      "# Plot the nominal trajectory\n",
      "plot(value(p[0]),value(p[1]),'o-')\n",
      "xlabel('x position')\n",
      "xlabel('x position')\n",
      "title('time-optimal trajectory')\n",
      "axis('equal')\n",
      "\n",
      "# Plot the obstacles\n",
      "theta = linspace(0,2*pi,1000)\n",
      "for center, radius in circles:\n",
      "  fill(radius*cos(theta) + center[0],radius*sin(theta) + center[1],'r') "
     ],
     "language": "python",
     "metadata": {},
     "outputs": [
      {
       "metadata": {},
       "output_type": "display_data",
       "png": "[encoded data removed]",
       "text": [
        "<matplotlib.figure.Figure at 0x7fa0da541cd0>"
       ]
      }
     ],
     "prompt_number": 5
    }
   ],
   "metadata": {}
  }
 ]
}